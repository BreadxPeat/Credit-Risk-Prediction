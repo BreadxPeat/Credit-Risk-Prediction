#Load the librarys
import pandas as pd #To work with dataset
import numpy as np #Math library
import seaborn as sns #Graph library that use matplot in background
import matplotlib.pyplot as plt #to plot some parameters in seaborn
import scipy.stats as stats
from plotly.subplots import make_subplots

#Importing the data
df_credit = pd.read_csv("/kaggle/input/german-credit-data/german_credit_data.csv",index_col=0)
